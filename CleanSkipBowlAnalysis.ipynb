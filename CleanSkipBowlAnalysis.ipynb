{
 "cells": [
  {
   "cell_type": "code",
   "execution_count": 1,
   "id": "09f44431",
   "metadata": {},
   "outputs": [
    {
     "name": "stderr",
     "output_type": "stream",
     "text": [
      "*** Please call arc.check_product() to define a desktop license.\n"
     ]
    },
    {
     "data": {
      "text/html": [
       "<pre><b>product:</b> ArcGIS Pro (13.0.2.36056)\n",
       "<b>license:</b> Advanced\n",
       "<b>version:</b> 1.0.1.300</pre>"
      ],
      "text/latex": [
       "\\begin{description}\n",
       "\\item[\\$license] 'Advanced'\n",
       "\\item[\\$version] '13.0.2.36056'\n",
       "\\item[\\$path] 'C:\\textbackslash{}\\textbackslash{}Users\\textbackslash{}\\textbackslash{}abe\\_lizbethp\\textbackslash{}\\textbackslash{}AppData\\textbackslash{}\\textbackslash{}Local\\textbackslash{}\\textbackslash{}Programs\\textbackslash{}\\textbackslash{}ArcGIS\\textbackslash{}\\textbackslash{}Pro\\textbackslash{}\\textbackslash{}'\n",
       "\\item[\\$dll] 'rarcproxy\\_pro'\n",
       "\\item[\\$app] 'ArcGIS Pro'\n",
       "\\item[\\$pkg\\_ver] '1.0.1.300'\n",
       "\\end{description}\n"
      ],
      "text/markdown": [
       "$license\n",
       ":   'Advanced'\n",
       "$version\n",
       ":   '13.0.2.36056'\n",
       "$path\n",
       ":   'C:\\\\Users\\\\abe_lizbethp\\\\AppData\\\\Local\\\\Programs\\\\ArcGIS\\\\Pro\\\\'\n",
       "$dll\n",
       ":   'rarcproxy_pro'\n",
       "$app\n",
       ":   'ArcGIS Pro'\n",
       "$pkg_ver\n",
       ":   '1.0.1.300'\n",
       "\n",
       "\n"
      ],
      "text/plain": [
       "product: ArcGIS Pro (13.0.2.36056)\n",
       "license: Advanced\n",
       "version: 1.0.1.300 "
      ]
     },
     "metadata": {},
     "output_type": "display_data"
    }
   ],
   "source": [
    "# Import Important Libraries\n",
    "library(arcgisbinding)\n",
    "arc.check_product()"
   ]
  },
  {
   "cell_type": "code",
   "execution_count": 3,
   "id": "6eb65673",
   "metadata": {},
   "outputs": [],
   "source": [
    "library(agricolae)\n",
    "library(dplyr)\n",
    "library(scales)\n",
    "library(ggplot2)\n",
    "library(tidyverse)"
   ]
  },
  {
   "cell_type": "markdown",
   "id": "ea766290",
   "metadata": {},
   "source": [
    "# Load Data from ArcGIS Pro"
   ]
  },
  {
   "cell_type": "code",
   "execution_count": 16,
   "id": "1d7dec05",
   "metadata": {},
   "outputs": [],
   "source": [
    "# Fetching shapefile\n",
    "dataset_2022 <- arc.open('C:/Users/abe_lizbethp/OneDrive - Iowa State University/Documents/2022_Data_Analysis/data_analysis_v2/data_analysis_v2.gdb/Digital_Acre_2022')\n",
    "# Saving as dataframe\n",
    "field <- c(\"Core_ID\", \"Rep\", \"ElevClass\",\"Elev_Categ\", \"T_Name\", \"PostErrorC\", \"OnFieldJ\", \"WetWt2\", \"SkipBowl\")\n",
    "da_2022.df <- arc.select(dataset_2022, fields = field)"
   ]
  },
  {
   "cell_type": "markdown",
   "id": "f91d982e",
   "metadata": {
    "tags": []
   },
   "source": [
    "## Filtering Data"
   ]
  },
  {
   "cell_type": "code",
   "execution_count": 17,
   "id": "f1de42d0",
   "metadata": {},
   "outputs": [],
   "source": [
    "filtered_data <- da_2022.df %>% filter(T_Name != 'Depth Shallow' &\n",
    "                     !is.na(SkipBowl))"
   ]
  },
  {
   "cell_type": "markdown",
   "id": "0aeba5be",
   "metadata": {},
   "source": [
    "# Run Statistical Models - Overall Skip Bowl Effect"
   ]
  },
  {
   "cell_type": "code",
   "execution_count": 18,
   "id": "8f79872f",
   "metadata": {},
   "outputs": [
    {
     "data": {
      "text/plain": [
       "               Df    Sum Sq Mean Sq F value   Pr(>F)    \n",
       "SkipBowl        1    285635  285635   43.18 5.12e-11 ***\n",
       "Residuals   18612 123107492    6614                     \n",
       "---\n",
       "Signif. codes:  0 '***' 0.001 '**' 0.01 '*' 0.05 '.' 0.1 ' ' 1"
      ]
     },
     "metadata": {},
     "output_type": "display_data"
    }
   ],
   "source": [
    "# One-way ANOVA\n",
    "skb_model <- aov(WetWt2~SkipBowl, data = filtered_data)\n",
    "summary(skb_model)"
   ]
  },
  {
   "cell_type": "code",
   "execution_count": 19,
   "id": "9f22ab59",
   "metadata": {},
   "outputs": [],
   "source": [
    "vec <- c('1','2','3','4','5','6','7','-1')\n",
    "# Fisher’s Least Significant Difference (LSD) Test\n",
    "skb_lsd<-LSD.test(skb_model, \"SkipBowl\", alpha = 0.05)\n",
    "skb_lsd_df <- as.data.frame(skb_lsd$groups)  %>% \n",
    "    rownames_to_column(var = \"SkipBowl\")\n",
    "skb_lsd_df <- skb_lsd_df[match(vec, skb_lsd_df$SkipBowl), ]\n"
   ]
  },
  {
   "cell_type": "code",
   "execution_count": 20,
   "id": "8584a25c",
   "metadata": {},
   "outputs": [
    {
     "data": {
      "text/html": [
       "<table>\n",
       "<thead><tr><th></th><th scope=col>SkipBowl</th><th scope=col>WetWt2</th><th scope=col>groups</th></tr></thead>\n",
       "<tbody>\n",
       "\t<tr><th scope=row>1</th><td>1       </td><td>257.0458</td><td>a       </td></tr>\n",
       "\t<tr><th scope=row>2</th><td>2       </td><td>240.5078</td><td>b       </td></tr>\n",
       "\t<tr><th scope=row>3</th><td>3       </td><td>228.3694</td><td>c       </td></tr>\n",
       "\t<tr><th scope=row>4</th><td>4       </td><td>218.4945</td><td>d       </td></tr>\n",
       "\t<tr><th scope=row>7</th><td>5       </td><td>207.5988</td><td>ef      </td></tr>\n",
       "\t<tr><th scope=row>5</th><td>6       </td><td>210.8262</td><td>e       </td></tr>\n",
       "\t<tr><th scope=row>6</th><td>7       </td><td>209.5548</td><td>ef      </td></tr>\n",
       "\t<tr><th scope=row>8</th><td>-1      </td><td>205.5658</td><td>f       </td></tr>\n",
       "</tbody>\n",
       "</table>\n"
      ],
      "text/latex": [
       "\\begin{tabular}{r|lll}\n",
       "  & SkipBowl & WetWt2 & groups\\\\\n",
       "\\hline\n",
       "\t1 & 1        & 257.0458 & a       \\\\\n",
       "\t2 & 2        & 240.5078 & b       \\\\\n",
       "\t3 & 3        & 228.3694 & c       \\\\\n",
       "\t4 & 4        & 218.4945 & d       \\\\\n",
       "\t7 & 5        & 207.5988 & ef      \\\\\n",
       "\t5 & 6        & 210.8262 & e       \\\\\n",
       "\t6 & 7        & 209.5548 & ef      \\\\\n",
       "\t8 & -1       & 205.5658 & f       \\\\\n",
       "\\end{tabular}\n"
      ],
      "text/markdown": [
       "\n",
       "| <!--/--> | SkipBowl | WetWt2 | groups | \n",
       "|---|---|---|---|---|---|---|---|\n",
       "| 1 | 1        | 257.0458 | a        | \n",
       "| 2 | 2        | 240.5078 | b        | \n",
       "| 3 | 3        | 228.3694 | c        | \n",
       "| 4 | 4        | 218.4945 | d        | \n",
       "| 7 | 5        | 207.5988 | ef       | \n",
       "| 5 | 6        | 210.8262 | e        | \n",
       "| 6 | 7        | 209.5548 | ef       | \n",
       "| 8 | -1       | 205.5658 | f        | \n",
       "\n",
       "\n"
      ],
      "text/plain": [
       "  SkipBowl WetWt2   groups\n",
       "1 1        257.0458 a     \n",
       "2 2        240.5078 b     \n",
       "3 3        228.3694 c     \n",
       "4 4        218.4945 d     \n",
       "7 5        207.5988 ef    \n",
       "5 6        210.8262 e     \n",
       "6 7        209.5548 ef    \n",
       "8 -1       205.5658 f     "
      ]
     },
     "metadata": {},
     "output_type": "display_data"
    }
   ],
   "source": [
    "skb_lsd_df"
   ]
  },
  {
   "cell_type": "code",
   "execution_count": 111,
   "id": "7f0b3af8",
   "metadata": {},
   "outputs": [],
   "source": [
    "#join_data <- left_join(filtered_data, skb_lsd_df, by = 'SkipBowl')b"
   ]
  },
  {
   "cell_type": "markdown",
   "id": "5b9e7b36",
   "metadata": {},
   "source": [
    "# Plotting Skip Bowl Effect"
   ]
  },
  {
   "cell_type": "code",
   "execution_count": 21,
   "id": "77661883",
   "metadata": {},
   "outputs": [],
   "source": [
    "DeereTheme <-   theme(\n",
    "  plot.title = element_text(size=28, hjust = 0.5, face = \"bold\", margin = margin(b = 15)),\n",
    "  plot.subtitle = element_text(size=26, hjust = 0.5, face = \"plain\", margin = margin(b = 20)),\n",
    "  axis.title.x = element_text(size = 24, face = \"bold\", margin = margin(t = 40)),\n",
    "  axis.title.y = element_text(size = 24, face = \"bold\", margin = margin(r = 40)),\n",
    "  axis.text = element_text(size = 24, colour = \"black\"),\n",
    "  plot.margin = margin(2,2,2,2,\"cm\"),\n",
    "  plot.background = element_rect(fill = \"gray79\"),\n",
    "  panel.background = element_rect(fill=\"white\"),\n",
    "  panel.grid.major=element_line(colour=\"gray91\"),\n",
    "  panel.grid.minor=element_line(colour=\"gray91\"),\n",
    "  panel.border = element_rect(colour = \"black\", fill=NA,size=2)\n",
    ")"
   ]
  },
  {
   "cell_type": "code",
   "execution_count": 172,
   "id": "2414586d",
   "metadata": {},
   "outputs": [
    {
     "name": "stderr",
     "output_type": "stream",
     "text": [
      "No summary function supplied, defaulting to `mean_se()\n"
     ]
    },
    {
     "data": {
      "image/png": "[encoded data removed]",
      "text/plain": [
       "plot without title"
      ]
     },
     "metadata": {},
     "output_type": "display_data"
    }
   ],
   "source": [
    "options(repr.plot.width =12, repr.plot.height =10)\n",
    "filtered_data$SkipBowl <- factor(filtered_data$SkipBowl, levels = c(1,2,3,4,5,6,7,-1))\n",
    "    ggplot(data=filtered_data, aes(x=SkipBowl, y = WetWt2)) +\n",
    "    geom_bar(stat=\"summary\", colour = \"black\", fill = \"#367C2B\") +\n",
    "    geom_errorbar(stat = \"summary\", fun.data = mean_se, width = 0.2, fun.args = list(mult = 1.96)) +\n",
    "    scale_x_discrete(limits = c('1','2','3','4','5','6','7','-1')) +\n",
    "    scale_y_continuous(limits = c(150,280), oob = rescale_none) +\n",
    "    #stat_summary(data=skb_lsd_df, aes(x=index, y = groups), vjust = -3, size =7) +\n",
    "    geom_text(data=skb_lsd_df,aes(label = groups), vjust = -3, size =7) +\n",
    "    #stat_summary(geom = 'text', label = c(\"a\", \"b\", \"c\",\"d\", \"ef\",\"e\",\"ef\", \"f\"), vjust = -3, size =7) +\n",
    "    xlab(\"Proximity to Skip Bowl\") +\n",
    "    ylab(\"Plant Yield (g)\") +\n",
    "    ggtitle(\"Individual Plant Yield in Proximity to Skip Bowl\") +\n",
    "    DeereTheme "
   ]
  },
  {
   "cell_type": "markdown",
   "id": "686038fc",
   "metadata": {
    "jp-MarkdownHeadingCollapsed": true,
    "tags": []
   },
   "source": [
    "# Skip Bowl Effect by Elevation Class"
   ]
  },
  {
   "cell_type": "code",
   "execution_count": 180,
   "id": "dcdfb0e0",
   "metadata": {},
   "outputs": [],
   "source": [
    "# Function to generate skipb effect graph \n",
    "skb_effect <- function(sub_dataset,elev_cat) {\n",
    "    # One-way ANOVA\n",
    "    skb_model <- aov(WetWt2~SkipBowl, data = sub_dataset)\n",
    "    vec <- c('1','2','3','4','5','6','7','-1')\n",
    "    # Fisher’s Least Significant Difference (LSD) Test\n",
    "    skb_lsd<-LSD.test(skb_model, \"SkipBowl\", alpha = 0.05)\n",
    "    # LSD into dataframe \n",
    "    skb_lsd_df <- as.data.frame(skb_lsd$groups)  %>% \n",
    "        rownames_to_column(var = \"SkipBowl\")\n",
    "    skb_lsd_df <- skb_lsd_df[match(vec, skb_lsd_df$SkipBowl), ]\n",
    "    \n",
    "    # Plot Data\n",
    "    options(repr.plot.width =12, repr.plot.height =10)\n",
    "    sub_dataset$SkipBowl <- factor(sub_dataset$SkipBowl, levels = c(1,2,3,4,5,6,7,-1))\n",
    "    plt <- ggplot(data=sub_dataset, aes(x=SkipBowl, y = WetWt2)) +\n",
    "    geom_bar(stat=\"summary\", colour = \"black\", fill = \"#367C2B\") +\n",
    "    geom_errorbar(stat = \"summary\", fun.data = mean_se, width = 0.2, fun.args = list(mult = 1.96)) +\n",
    "    scale_x_discrete(limits = c('1','2','3','4','5','6','7','-1')) +\n",
    "    scale_y_continuous(limits = c(150,280), oob = rescale_none) +\n",
    "    geom_label(data=skb_lsd_df,aes(label = groups),size =6, label.padding = unit(0.45, \"lines\")) +\n",
    "    xlab(\"Proximity to Skip Bowl\") +\n",
    "    ylab(\"Plant Yield (g)\") +\n",
    "    ggtitle(\"Individual Plant Yield in Proximity to Skip Bowl\", subtitle = paste('Elevation Category ', elev_cat)) +\n",
    "    DeereTheme\n",
    "    \n",
    "    return(plt)\n",
    "    \n",
    "}"
   ]
  },
  {
   "cell_type": "code",
   "execution_count": 182,
   "id": "59f59d4a",
   "metadata": {},
   "outputs": [
    {
     "name": "stderr",
     "output_type": "stream",
     "text": [
      "No summary function supplied, defaulting to `mean_se()\n",
      "No summary function supplied, defaulting to `mean_se()\n",
      "No summary function supplied, defaulting to `mean_se()\n",
      "No summary function supplied, defaulting to `mean_se()\n",
      "No summary function supplied, defaulting to `mean_se()\n"
     ]
    }
   ],
   "source": [
    "elev_category <- list('A','B','C','D','E')\n",
    "for (x in elev_category){\n",
    "    data_elev <- filtered_data %>% filter(Elev_Categ == x)\n",
    "    elev_cat = x\n",
    "    plt <- skb_effect(data_elev, elev_cat)\n",
    "    png_name <- paste('skbeffect_elev_',x, '.png')\n",
    "    ggsave(png_name, plot = plt, width = 12, height = 10)\n",
    "}"
   ]
  },
  {
   "cell_type": "markdown",
   "id": "46607918",
   "metadata": {
    "jp-MarkdownHeadingCollapsed": true,
    "tags": []
   },
   "source": [
    "# Skip Bowl Effect by Rep "
   ]
  },
  {
   "cell_type": "code",
   "execution_count": 183,
   "id": "0910a141",
   "metadata": {},
   "outputs": [],
   "source": [
    "# Function to generate skipb effect graph \n",
    "skb_effect_rep <- function(sub_dataset,rep) {\n",
    "    # One-way ANOVA\n",
    "    skb_model <- aov(WetWt2~SkipBowl, data = sub_dataset)\n",
    "    vec <- c('1','2','3','4','5','6','7','-1')\n",
    "    # Fisher’s Least Significant Difference (LSD) Test\n",
    "    skb_lsd<-LSD.test(skb_model, \"SkipBowl\", alpha = 0.05)\n",
    "    # LSD into dataframe \n",
    "    skb_lsd_df <- as.data.frame(skb_lsd$groups)  %>% \n",
    "        rownames_to_column(var = \"SkipBowl\")\n",
    "    skb_lsd_df <- skb_lsd_df[match(vec, skb_lsd_df$SkipBowl), ]\n",
    "    \n",
    "    # Plot Data\n",
    "    options(repr.plot.width =12, repr.plot.height =10)\n",
    "    sub_dataset$SkipBowl <- factor(sub_dataset$SkipBowl, levels = c(1,2,3,4,5,6,7,-1))\n",
    "    plt <- ggplot(data=sub_dataset, aes(x=SkipBowl, y = WetWt2)) +\n",
    "    geom_bar(stat=\"summary\", colour = \"black\", fill = \"#367C2B\") +\n",
    "    geom_errorbar(stat = \"summary\", fun.data = mean_se, width = 0.2, fun.args = list(mult = 1.96)) +\n",
    "    scale_x_discrete(limits = c('1','2','3','4','5','6','7','-1')) +\n",
    "    scale_y_continuous(limits = c(150,280), oob = rescale_none) +\n",
    "    geom_label(data=skb_lsd_df,aes(label = groups),size =6, label.padding = unit(0.45, \"lines\")) +\n",
    "    xlab(\"Proximity to Skip Bowl\") +\n",
    "    ylab(\"Plant Yield (g)\") +\n",
    "    ggtitle(\"Individual Plant Yield in Proximity to Skip Bowl\", subtitle = paste('Rep ', rep)) +\n",
    "    DeereTheme\n",
    "    \n",
    "    return(plt)\n",
    "    \n",
    "}"
   ]
  },
  {
   "cell_type": "code",
   "execution_count": 188,
   "id": "a797bf79",
   "metadata": {},
   "outputs": [
    {
     "name": "stderr",
     "output_type": "stream",
     "text": [
      "No summary function supplied, defaulting to `mean_se()\n",
      "No summary function supplied, defaulting to `mean_se()\n",
      "No summary function supplied, defaulting to `mean_se()\n",
      "No summary function supplied, defaulting to `mean_se()\n",
      "No summary function supplied, defaulting to `mean_se()\n",
      "No summary function supplied, defaulting to `mean_se()\n",
      "No summary function supplied, defaulting to `mean_se()\n",
      "No summary function supplied, defaulting to `mean_se()\n",
      "No summary function supplied, defaulting to `mean_se()\n"
     ]
    }
   ],
   "source": [
    "for (x in list(1,2,3,4,5,6,7,8,9)) {\n",
    "    data_rep <- filtered_data %>% filter(Rep == x)\n",
    "    rep_num = x\n",
    "    plt <- skb_effect_rep(data_rep, rep_num)\n",
    "    png_name <- paste('skbeffect_rep_',x, '.png')\n",
    "    ggsave(png_name, plot = plt, width = 12, height = 10)\n",
    "}"
   ]
  },
  {
   "cell_type": "code",
   "execution_count": null,
   "id": "9232b47a",
   "metadata": {},
   "outputs": [],
   "source": [
    "sub_dataset$WetWt3 <- sub_dataset$WetWt2/mean(sub_dataset$WetWt2)"
   ]
  },
  {
   "cell_type": "markdown",
   "id": "fc319644",
   "metadata": {
    "tags": []
   },
   "source": [
    "# Skip Bowl Effect by Elevation Class"
   ]
  },
  {
   "cell_type": "code",
   "execution_count": 6,
   "id": "e7c99213",
   "metadata": {},
   "outputs": [],
   "source": [
    "# Function to generate skipb effect graph \n",
    "skb_effect_class <- function(sub_dataset,eclass) {\n",
    "    \n",
    "    sub_dataset$WetWt3 <- sub_dataset$WetWt2/mean(sub_dataset$WetWt2)\n",
    "    # One-way ANOVA\n",
    "    skb_model <- aov(WetWt3~SkipBowl, data = sub_dataset)\n",
    "    vec <- c('1','2','3','4','5','6','7','-1')\n",
    "    # Fisher’s Least Significant Difference (LSD) Test\n",
    "    skb_lsd<-LSD.test(skb_model, \"SkipBowl\", alpha = 0.05)\n",
    "    # LSD into dataframe \n",
    "    skb_lsd_df <- as.data.frame(skb_lsd$groups)  %>% \n",
    "        rownames_to_column(var = \"SkipBowl\")\n",
    "    skb_lsd_df <- skb_lsd_df[match(vec, skb_lsd_df$SkipBowl), ]\n",
    "    \n",
    "    # Plot Data\n",
    "    options(repr.plot.width =12, repr.plot.height =10)\n",
    "    sub_dataset$SkipBowl <- factor(sub_dataset$SkipBowl, levels = c(1,2,3,4,5,6,7,-1))\n",
    "    \n",
    "    plt <- ggplot(data=sub_dataset, aes(x=SkipBowl, y = WetWt3)) +\n",
    "    geom_bar(stat=\"summary\", colour = \"black\", fill = \"#367C2B\") +\n",
    "    geom_errorbar(stat = \"summary\", fun.data = mean_se, width = 0.2, fun.args = list(mult = 1.96)) +\n",
    "    scale_x_discrete(limits = c('1','2','3','4','5','6','7','-1')) +\n",
    "    scale_y_continuous(limits = c(0.5,1.3), oob = rescale_none) +\n",
    "    geom_label(data=skb_lsd_df,aes(label = groups),size =6, label.padding = unit(0.45, \"lines\")) +\n",
    "    geom_text(data=skb_lsd_df,aes(y = 0.7,label = round(WetWt3, 2)), size =6,  fontface = \"bold\") +\n",
    "    xlab(\"Proximity to Skip Bowl\") +\n",
    "    ylab(\"Plant Yield (g)\") +\n",
    "    ggtitle(\"Individual Plant Yield in Proximity to Skip Bowl\", subtitle = paste('Elevation Class ', eclass, ', Data Count ', nrow(sub_dataset))) +\n",
    "    #annotate('text', x = 0, y = 0, label = 'text') +\n",
    "    DeereTheme\n",
    "    \n",
    "    return(plt)\n",
    "    \n",
    "}"
   ]
  },
  {
   "cell_type": "code",
   "execution_count": 289,
   "id": "40f1c008",
   "metadata": {},
   "outputs": [
    {
     "name": "stderr",
     "output_type": "stream",
     "text": [
      "No summary function supplied, defaulting to `mean_se()\n",
      "No summary function supplied, defaulting to `mean_se()\n",
      "No summary function supplied, defaulting to `mean_se()\n",
      "No summary function supplied, defaulting to `mean_se()\n",
      "No summary function supplied, defaulting to `mean_se()\n",
      "No summary function supplied, defaulting to `mean_se()\n",
      "No summary function supplied, defaulting to `mean_se()\n",
      "No summary function supplied, defaulting to `mean_se()\n"
     ]
    }
   ],
   "source": [
    "for (x in list(0,1,2,4,5,6,7,8)) {\n",
    "    data_class <- filtered_data %>% filter(ElevClass == x)\n",
    "    class_num = x\n",
    "    plt <- skb_effect_class(data_class, class_num)\n",
    "    png_name <- paste('skbeffect_perc_elev_class_',x, '.png')\n",
    "    ggsave(png_name, plot = plt, width = 12, height = 10)\n",
    "}"
   ]
  },
  {
   "cell_type": "markdown",
   "id": "0b71cae3",
   "metadata": {
    "tags": []
   },
   "source": [
    "# Additional"
   ]
  },
  {
   "cell_type": "code",
   "execution_count": 14,
   "id": "e7b04914",
   "metadata": {},
   "outputs": [
    {
     "name": "stdout",
     "output_type": "stream",
     "text": [
      "[1] \"skbeffect_perc_elev_class_ 8 .png\"\n"
     ]
    },
    {
     "name": "stderr",
     "output_type": "stream",
     "text": [
      "No summary function supplied, defaulting to `mean_se()\n"
     ]
    },
    {
     "data": {
      "image/png": "[encoded data removed]",
      "text/plain": [
       "plot without title"
      ]
     },
     "metadata": {},
     "output_type": "display_data"
    }
   ],
   "source": [
    "filtered_test <- da_2022.df %>% filter(T_Name != 'Depth Shallow' &\n",
    "                     !is.na(SkipBowl))\n",
    "\n",
    "#data_class <- filtered_test %>% filter(ElevClass == x)\n",
    "class_num = x\n",
    "plt <- skb_effect_class(filtered_test, class_num)\n",
    "png_name <- paste('skbeffect_perc_elev_class_',x, '.png')\n",
    "print(png_name)\n",
    "print(plt)"
   ]
  },
  {
   "cell_type": "code",
   "execution_count": 13,
   "id": "ff1a3161",
   "metadata": {},
   "outputs": [
    {
     "name": "stdout",
     "output_type": "stream",
     "text": [
      "[1] \"skbeffect_perc_elev_class_ 8 .png\"\n"
     ]
    },
    {
     "name": "stderr",
     "output_type": "stream",
     "text": [
      "No summary function supplied, defaulting to `mean_se()\n"
     ]
    },
    {
     "data": {
      "image/png": "[encoded data removed]",
      "text/plain": [
       "plot without title"
      ]
     },
     "metadata": {},
     "output_type": "display_data"
    }
   ],
   "source": [
    "filtered_test <- da_2022.df %>% filter(T_Name == 'Control' &\n",
    "                     !is.na(SkipBowl))\n",
    "\n",
    "#data_class <- filtered_test %>% filter(ElevClass == x)\n",
    "class_num = x\n",
    "plt <- skb_effect_class(filtered_test, class_num)\n",
    "png_name <- paste('skbeffect_perc_elev_class_',x, '.png')\n",
    "print(png_name)\n",
    "print(plt)"
   ]
  },
  {
   "cell_type": "code",
   "execution_count": 37,
   "id": "84c91e1a",
   "metadata": {},
   "outputs": [],
   "source": []
  },
  {
   "cell_type": "code",
   "execution_count": null,
   "id": "0e6c9841",
   "metadata": {},
   "outputs": [],
   "source": []
  }
 ],
 "metadata": {
  "kernelspec": {
   "display_name": "R",
   "language": "R",
   "name": "ir"
  },
  "language_info": {
   "codemirror_mode": "r",
   "file_extension": ".r",
   "mimetype": "text/x-r-source",
   "name": "R",
   "pygments_lexer": "r",
   "version": "3.5.1"
  }
 },
 "nbformat": 4,
 "nbformat_minor": 5
}
