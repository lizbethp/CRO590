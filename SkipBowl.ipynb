{
 "cells": [
  {
   "cell_type": "markdown",
   "metadata": {
    "heading_collapsed": true
   },
   "source": [
    "# Imports and functions"
   ]
  },
  {
   "cell_type": "code",
   "execution_count": 1,
   "metadata": {
    "hidden": true
   },
   "outputs": [],
   "source": [
    "# Import Modules \n",
    "import arcpy\n",
    "import time\n",
    "import sys\n",
    "import numpy as np\n",
    "import pandas as pd\n",
    "import os\n",
    "from tqdm.notebook import tqdm, trange"
   ]
  },
  {
   "cell_type": "code",
   "execution_count": 2,
   "metadata": {
    "hidden": true
   },
   "outputs": [],
   "source": [
    "# Costume Functions\n",
    "#======= Function 1 ========#\n",
    "# Returns the unique values of a list\n",
    "# Inputs: list\n",
    "def unique(list1):\n",
    "    #import numpy as np\n",
    "    x = np.array(list1)\n",
    "    return list(np.unique(x))\n",
    "\n",
    "#======= Function 2 ========#\n",
    "# Converts fc table into dataframe\n",
    "# Inputs: fc (feature class), fields (desired fields, list format)\n",
    "# col_names (how you want to call the col on the dataframe, list\n",
    "# format and same order as fields) - ALL REQUIERD\n",
    "def fc_to_df(fc, fields, col_names):\n",
    "    data = []\n",
    "    with arcpy.da.SearchCursor(fc, fields) as cursor:\n",
    "        for row in cursor:\n",
    "            dict_temp = {}\n",
    "            \n",
    "            for i in range(len(fields)):\n",
    "                dict_temp.update({col_names[i]:row[i]})\n",
    "                \n",
    "            data.append(dict_temp)\n",
    "            \n",
    "    return(pd.DataFrame(data))"
   ]
  },
  {
   "cell_type": "code",
   "execution_count": 2,
   "metadata": {
    "hidden": true
   },
   "outputs": [],
   "source": [
    "# Setting Inputs \n",
    "# set up inputs\n",
    "input_fc = 'Digital_Acre_2022'\n",
    "#input_fc = arcpy.GetParameterAsText(0)\n",
    "plot = 'Rep'\n",
    "#arcpy.GetParameterAsText(1)\n",
    "row = 'Row_Numb'\n",
    "#arcpy.GetParameterAsText(2)\n",
    "zone = 'Zone_Numb'\n",
    "#arcpy.GetParameterAsText(3)\n",
    "plantn = 'Plant_NF'\n",
    "#arcpy.GetParameterAsText(4)\n",
    "coreID = 'Core_ID'\n",
    "#arcpy.GetParameterAsText(5)\n",
    "\n",
    "# Input fields transformed to list \n",
    "fields = [plot, row, zone, plantn, coreID]"
   ]
  },
  {
   "cell_type": "markdown",
   "metadata": {},
   "source": [
    "# Skip Bowl Data Processing"
   ]
  },
  {
   "cell_type": "markdown",
   "metadata": {
    "heading_collapsed": true
   },
   "source": [
    "## Adding fields - next to skip bowl and skip bowl property"
   ]
  },
  {
   "cell_type": "code",
   "execution_count": 12,
   "metadata": {
    "hidden": true
   },
   "outputs": [],
   "source": [
    "# Adding 'SkipBowl' and 'SkipProp' fields to fc dataset\n",
    "arcpy.management.AddField(input_fc, \"SkipBowl\", \"SHORT\",field_alias=\"Proximity_SkipBowl\",\n",
    "                          field_is_nullable=\"NULLABLE\")\n",
    "#arcpy.AddMessage('Adding SkipBowl field to ' + str(os.path.basename(input_fc)))\n",
    "\n",
    "arcpy.management.AddField(input_fc, \"SkipProp\", \"TEXT\", field_length=10,\n",
    "                          field_alias=\"SkipBowl_Property\", field_is_nullable=\"NULLABLE\")\n",
    "#arcpy.AddMessage('Adding SkipProp field to ' + str(os.path.basename(input_fc)))\n",
    "\n",
    "# Generating dataframe from input fc\n",
    "plts_22 = fc_to_df(input_fc, fields, fields)"
   ]
  },
  {
   "cell_type": "markdown",
   "metadata": {
    "heading_collapsed": true
   },
   "source": [
    "## Identidying plants next to skip bowl"
   ]
  },
  {
   "cell_type": "code",
   "execution_count": 35,
   "metadata": {
    "hidden": true
   },
   "outputs": [],
   "source": [
    "# List for recording coreID of skps and their position \n",
    "skb_coreID = []\n",
    "skb_pos = []\n",
    "\n",
    "# Generating unique ist of reps and rows in order \n",
    "reps = unique(list(plts_22[fields[0]]))\n",
    "reps.sort()\n",
    "rows = unique(list(plts_22[fields[1]]))\n",
    "rows.sort()\n",
    "\n",
    "# Itiratin over every plant row of the dataset \n",
    "for rep in reps:\n",
    "    for row in rows:\n",
    "        # Subset of one field row \n",
    "        row_df = plts_22[(plts_22[fields[0]] == rep) & (plts_22[fields[1]] == row)]\n",
    "        # How many zones does the row has?\n",
    "        row_length = unique(row_df[fields[2]])\n",
    "        \n",
    "        # If statement that identify how many zones the row has\n",
    "        # Dependig on the zone is how many plants are going to be flag \n",
    "        if len(row_length) == 2:\n",
    "            #Last Plant of Zone 1\n",
    "            zone_df = row_df[row_df[fields[2]] == min(row_length)].reset_index()\n",
    "            plant_index = zone_df[fields[3]].idxmax()\n",
    "            skb_coreID.append(zone_df.iloc[plant_index,5])\n",
    "            skb_pos.append(\"UP\")\n",
    "\n",
    "            #First Plant of zone 2\n",
    "            zone_df = row_df[row_df[fields[2]] == max(row_length)].reset_index()\n",
    "            plant_index = zone_df[fields[3]].idxmin()\n",
    "            skb_coreID.append(zone_df.iloc[plant_index,5])\n",
    "            skb_pos.append(\"DOWN\")\n",
    "\n",
    "\n",
    "        if len(row_length) == 3:\n",
    "            #Last Plant of Zone 1\n",
    "            zone_df = row_df[row_df[fields[2]] == 1].reset_index()\n",
    "            plant_index = zone_df[fields[3]].idxmax()\n",
    "            skb_coreID.append(zone_df.iloc[plant_index,5])\n",
    "            skb_pos.append(\"UP\")\n",
    "\n",
    "            #First Plant of zone 2\n",
    "            zone_df = row_df[row_df[fields[2]] == 2].reset_index()\n",
    "            plant_index = zone_df[fields[3]].idxmin()\n",
    "            skb_coreID.append(zone_df.iloc[plant_index,5])\n",
    "            skb_pos.append(\"DOWN\")\n",
    "\n",
    "            #Last Plant of Zone 2\n",
    "            zone_df = row_df[row_df[fields[2]] == 2].reset_index()\n",
    "            plant_index = zone_df[fields[3]].idxmax()\n",
    "            skb_coreID.append(zone_df.iloc[plant_index,5])\n",
    "            skb_pos.append(\"UP\")\n",
    "\n",
    "            #First Plant of zone 3\n",
    "            zone_df = row_df[row_df[fields[2]] == 3].reset_index()\n",
    "            plant_index = zone_df[fields[3]].idxmin()\n",
    "            skb_coreID.append(zone_df.iloc[plant_index,5])\n",
    "            skb_pos.append(\"DOWN\")\n",
    "\n",
    "zip_obj = zip(skb_coreID,skb_pos)\n",
    "dict_skb = dict(zip_obj)"
   ]
  },
  {
   "cell_type": "code",
   "execution_count": 77,
   "metadata": {
    "hidden": true
   },
   "outputs": [],
   "source": [
    "# Updating fc to containg UP/Down Property and skip_bowl = 1 \n",
    "#arcpy.AddMessage('Uppdating ' + str(os.path.basename(input_fc)) + ' SkipBowl and SkipProp fields.')\n",
    "fields.extend(['SkipBowl', 'SkipProp'])\n",
    "#Updates input_fc \n",
    "with arcpy.da.UpdateCursor(input_fc, fields) as cursor:\n",
    "    for row in cursor:\n",
    "        if row[4] in skb_coreID:\n",
    "            # Uses the Master/Core ID to identify wich plants have been tag and what is their property\n",
    "            row[5] = 1                         \n",
    "            row[6] = dict_skb[row[4]]\n",
    "            cursor.updateRow(row)"
   ]
  },
  {
   "cell_type": "markdown",
   "metadata": {},
   "source": [
    "## Ranking plants after skip bowl"
   ]
  },
  {
   "cell_type": "code",
   "execution_count": 39,
   "metadata": {},
   "outputs": [],
   "source": [
    "original_project_workspace = arcpy.env.workspace "
   ]
  },
  {
   "cell_type": "code",
   "execution_count": 107,
   "metadata": {},
   "outputs": [],
   "source": [
    "# Calculating rank\n",
    "arcpy.env.workspace = 'memory'\n",
    "\n",
    "near_fid_list = []\n",
    "near_rank_list = []\n",
    "\n",
    "#Selecting only skip bowl plants \n",
    "where_clause = 'SkipBowl = 1'\n",
    "skipb_plants = arcpy.MakeFeatureLayer_management(input_fc, os.path.join(arcpy.env.scratchWorkspace, 'skpb_plants'), where_clause)\n",
    "\n",
    "#Generate near table for skip bowl plants \n",
    "arcpy.analysis.GenerateNearTable(skipb_plants, input_fc, 'test', angle = 'ANGLE', closest = 'ALL', closest_count = 20)\n",
    "\n",
    "# Add azimuth angle field to near table \n",
    "arcpy.management.AddField('test', \"AZIMUTH\", \"DOUBLE\", field_alias=\"AZIMUTH\", field_is_nullable=\"NULLABLE\")\n",
    "\n",
    "# Calculate azimuth angle and update table \n",
    "with arcpy.da.UpdateCursor('test', [\"NEAR_ANGLE\", \"AZIMUTH\"]) as cursor:\n",
    "    for row in cursor:\n",
    "        angle = row[0]\n",
    "        if angle <= 180 and angle > 90:\n",
    "            row[1] = (360.0 - (angle - 90))\n",
    "        else:\n",
    "            row[1] = (abs(angle - 90))\n",
    "        cursor.updateRow(row)\n",
    "\n",
    "# Recording all plants next to skip bowl OID\n",
    "oid_values = [i[0] for i in arcpy.da.SearchCursor(skipb_plants, arcpy.Describe(skipb_plants).OIDFieldName)]\n",
    "\n",
    "# Adding OID to skip bowl fields \n",
    "fields.append(arcpy.Describe(skipb_plants).OIDFieldName)\n",
    "\n",
    "# Near table fields\n",
    "near_fields = [nfield.name for nfield in arcpy.ListFields('test')]\n",
    "\n",
    "\n",
    "with arcpy.da.SearchCursor(skipb_plants, fields) as cursor:\n",
    "    # Itirates through skip bowl plants \n",
    "    for row in cursor:\n",
    "        # Select all near cases for one of the skip bowl plants \n",
    "        where_clause = \"{in_id} = {fc_oid}\".format(in_id = near_fields[1], fc_oid = row[7])\n",
    "        # Coursor for near table that only selects all cases of ONE skip plant \n",
    "        with arcpy.da.SearchCursor('test', near_fields, where_clause) as n_cursor:\n",
    "            near_fid = []\n",
    "            near_rank = []\n",
    "            near_rank_res = []\n",
    "            # Itirates through near table \n",
    "            for n_row in n_cursor:\n",
    "                if row[6] == 'UP' and 250 < n_row[6] < 290:\n",
    "                    near_fid.append(n_row[2])\n",
    "                    near_rank.append(n_row[4])\n",
    "\n",
    "                if row[6] == 'DOWN' and 70 < n_row[6] < 110:\n",
    "                    near_fid.append(n_row[2])\n",
    "                    near_rank.append(n_row[4])\n",
    "                    \n",
    "\n",
    "                near_rank_res = list(range(2,len(near_rank)+2))\n",
    "        near_fid_list.extend(near_fid)\n",
    "        near_rank_list.extend(near_rank_res)"
   ]
  },
  {
   "cell_type": "code",
   "execution_count": 108,
   "metadata": {},
   "outputs": [],
   "source": [
    "near_zip = zip(near_fid_list, near_rank_list)\n",
    "near_dict = dict(near_zip)\n",
    "\n",
    "# Updating input fc to include rank \n",
    "with arcpy.da.UpdateCursor(input_fc, [arcpy.Describe(input_fc).OIDFieldName, 'SkipBowl']) as cursor:\n",
    "    for row in cursor:\n",
    "        if row[1] == None:\n",
    "            try:\n",
    "                row[1] = near_dict[row[0]]\n",
    "                cursor.updateRow(row)\n",
    "            except KeyError:\n",
    "                pass"
   ]
  },
  {
   "cell_type": "markdown",
   "metadata": {
    "heading_collapsed": true
   },
   "source": [
    "## Data cleaning of skip bowl proximity"
   ]
  },
  {
   "cell_type": "code",
   "execution_count": 115,
   "metadata": {
    "hidden": true
   },
   "outputs": [],
   "source": [
    "with arcpy.da.UpdateCursor(input_fc, 'SkipBowl') as ucursor:\n",
    "    for urow in ucursor:\n",
    "        try:\n",
    "            if (urow[0] > 7):\n",
    "                urow[0] = None\n",
    "                ucursor.updateRow(urow)\n",
    "        except TypeError:\n",
    "            pass"
   ]
  },
  {
   "cell_type": "markdown",
   "metadata": {
    "heading_collapsed": true
   },
   "source": [
    "# Next and Previos Distance Calculations"
   ]
  },
  {
   "cell_type": "code",
   "execution_count": 10,
   "metadata": {
    "hidden": true
   },
   "outputs": [
    {
     "data": {
      "application/vnd.jupyter.widget-view+json": {
       "model_id": "b7475a99bd2e4475bf3b7dab483e9261",
       "version_major": 2,
       "version_minor": 0
      },
      "text/plain": [
       "  0%|          | 0/22557 [00:00<?, ?it/s]"
      ]
     },
     "metadata": {},
     "output_type": "display_data"
    }
   ],
   "source": [
    "prev_dist_dict = {}\n",
    "next_dist_dict = {}\n",
    "\n",
    "arcpy.env.workspace = r\"C:\\Users\\abe_lizbethp\\OneDrive - Iowa State University\\Documents\\2022_Data_Analysis\\data_analysis_v2\\data_analysis_v2.gdb\"\n",
    "\n",
    "# Generates near table for input_fc\n",
    "neart = arcpy.analysis.GenerateNearTable(input_fc, input_fc, 'test', angle = 'ANGLE', closest = 'ALL', closest_count = 10)\n",
    "# Adding azimth angle field \n",
    "arcpy.management.AddField(neart, \"AZIMUTH\", \"DOUBLE\", field_is_nullable=\"NULLABLE\")\n",
    "#Converting near angle to azimuth angle\n",
    "in_table = neart\n",
    "with arcpy.da.UpdateCursor(in_table, [\"NEAR_ANGLE\", \"AZIMUTH\"]) as cursor:\n",
    "    for row in cursor:\n",
    "        angle = row[0]\n",
    "        if angle <= 180 and angle > 90:\n",
    "            row[1] = (360.0 - (angle - 90))\n",
    "            cursor.updateRow(row)\n",
    "        else:\n",
    "            row[1] = (abs(angle - 90))\n",
    "            cursor.updateRow(row)\n",
    "\n",
    "\n",
    "# List all OID values for input_fc\n",
    "oid_values = [i[0] for i in arcpy.da.SearchCursor(input_fc, arcpy.Describe(input_fc).OIDFieldName)]\n",
    "\n",
    "p_bar = tqdm(range(len(oid_values)))\n",
    "for number in p_bar:\n",
    "    oid = oid_values[number]\n",
    "    # Obtaining NEXT distances for all objects in input_fc\n",
    "    where_clause1 = \"AZIMUTH >= 70 And AZIMUTH <= 110 And IN_FID = {fc_oid}\".format(fc_oid = oid)\n",
    "    all_dist_next = [i[0] for i in arcpy.da.SearchCursor(neart,'NEAR_DIST', where_clause1)]\n",
    "    try:\n",
    "        next_dist = min(all_dist_next)\n",
    "        next_dist_dict[oid] = next_dist\n",
    "    except ValueError:\n",
    "        pass\n",
    "    \n",
    "    # Obtaining PREVIOUS distances for all objects in input_fc\n",
    "    where_clause2= \"AZIMUTH >= 250 And AZIMUTH <= 290 And IN_FID = {fc_oid}\".format(fc_oid = oid)\n",
    "    all_dist_prev = [i[0] for i in arcpy.da.SearchCursor(neart,'NEAR_DIST', where_clause2)]\n",
    "    try:\n",
    "        prev_dist = min(all_dist_prev)\n",
    "        prev_dist_dict[oid] = prev_dist\n",
    "    except ValueError:\n",
    "        pass\n",
    "    \n",
    "    p_bar.set_description(f'Working on \"{number}\"')"
   ]
  },
  {
   "cell_type": "code",
   "execution_count": 13,
   "metadata": {
    "hidden": true
   },
   "outputs": [],
   "source": [
    "arcpy.management.AddField(input_fc, \"prevdist\", \"DOUBLE\", field_is_nullable=\"NULLABLE\")\n",
    "arcpy.management.AddField(input_fc, \"nextdist\", \"DOUBLE\", field_is_nullable=\"NULLABLE\")\n",
    "\n",
    "\n",
    "with arcpy.da.UpdateCursor(input_fc, [arcpy.Describe(input_fc).OIDFieldName, 'prevdist', 'nextdist']) as cursor:\n",
    "    for row in cursor:\n",
    "        try:\n",
    "            row[1] = prev_dist_dict[row[0]]\n",
    "            row[2] = next_dist_dict[row[0]]\n",
    "            cursor.updateRow(row)\n",
    "        except KeyError:\n",
    "            try:\n",
    "                row[1] = prev_dist_dict[row[0]]\n",
    "                cursor.updateRow(row)\n",
    "            except KeyError:\n",
    "                try:\n",
    "                    row[2] = next_dist_dict[row[0]]\n",
    "                    cursor.updateRow(row)\n",
    "                except:\n",
    "                    pass"
   ]
  },
  {
   "cell_type": "markdown",
   "metadata": {
    "heading_collapsed": true
   },
   "source": [
    "# Determining 'Normal Spacing Plants'"
   ]
  },
  {
   "cell_type": "code",
   "execution_count": 4,
   "metadata": {
    "hidden": true
   },
   "outputs": [],
   "source": [
    "with arcpy.da.UpdateCursor(input_fc, ['SkipBowl', 'prevdist', 'nextdist']) as cursor:\n",
    "    for row in cursor:\n",
    "        if row[0] == None:\n",
    "            try:\n",
    "                if (row[1] > 0.0762 and row[1] < 0.2286 and row[2] > 0.0762 and row[2] < 0.2286):\n",
    "                    row[0] = -1\n",
    "                    cursor.updateRow(row)\n",
    "            except TypeError:\n",
    "                pass\n",
    "        else:\n",
    "            pass"
   ]
  },
  {
   "cell_type": "code",
   "execution_count": null,
   "metadata": {
    "hidden": true
   },
   "outputs": [],
   "source": []
  }
 ],
 "metadata": {
  "kernelspec": {
   "display_name": "ArcGISPro",
   "language": "Python",
   "name": "python3"
  },
  "language_info": {
   "file_extension": ".py",
   "name": "python",
   "version": "3"
  }
 },
 "nbformat": 4,
 "nbformat_minor": 2
}
