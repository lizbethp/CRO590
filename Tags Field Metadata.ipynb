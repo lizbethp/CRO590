{
 "cells": [
  {
   "cell_type": "markdown",
   "metadata": {},
   "source": [
    "**This notebook contains all the processes used to define reps, rows, and zones for Digital Acre 2022. Additionally, it has all the methods used to number reps, rows, zones, and plants.**"
   ]
  },
  {
   "cell_type": "code",
   "execution_count": 12,
   "metadata": {},
   "outputs": [],
   "source": [
    "import arcpy\n",
    "from arcpy import env\n",
    "import pandas as pd\n",
    "\n",
    "arcpy.env.overwriteOutput = True"
   ]
  },
  {
   "cell_type": "markdown",
   "metadata": {},
   "source": [
    "# Define Reps Usings Stakes + Numbering"
   ]
  },
  {
   "cell_type": "markdown",
   "metadata": {
    "heading_collapsed": true
   },
   "source": [
    "### Merge Stakes"
   ]
  },
  {
   "cell_type": "code",
   "execution_count": 2,
   "metadata": {
    "hidden": true
   },
   "outputs": [
    {
     "data": {
      "text/html": [
       "<div class='gpresult'><h2>Messages</h2><div id='messages' data-messages='[\"Start Time: Thursday, February 16, 2023 8:02:59 AM\",\"Succeeded at Thursday, February 16, 2023 8:03:04 AM (Elapsed Time: 4.36 seconds)\"]' data-show='true'><div id = 'default' /></div></div>"
      ],
      "text/plain": [
       "<Result 'C:\\\\Users\\\\abe_lizbethp\\\\OneDrive - Iowa State University\\\\Documents\\\\ArcGIS\\\\Projects\\\\Digital_Acre_SOPs\\\\Digital_Acre_SOPs.gdb\\\\Merge_Stakes'>"
      ]
     },
     "execution_count": 2,
     "metadata": {},
     "output_type": "execute_result"
    }
   ],
   "source": [
    "# Fetch all fc layers on their coresponding gdb \n",
    "R1_stakes = r\"C:\\Users\\abe_lizbethp\\Box\\2022_Digital_Acre\\Tags\\Rep1_stakes_plants_points\\Rep1_stakes_plants_points.gdb\\Rep1_stakes\"\n",
    "R2_stakes = r\"C:\\Users\\abe_lizbethp\\Box\\2022_Digital_Acre\\Tags\\Rep2_stakes_plants_points\\Rep2_stakes_plants_points.gdb\\Rep2_stakes\"\n",
    "R3_stakes = r\"C:\\Users\\abe_lizbethp\\Box\\2022_Digital_Acre\\Tags\\Rep3_stakes_plants_points\\Rep3_stakes_plants_points.gdb\\Rep3_stakes\"\n",
    "R4_stakes = r\"C:\\Users\\abe_lizbethp\\Box\\2022_Digital_Acre\\Tags\\Rep4_stakes_plants_points\\Rep4_stakes_plants_points.gdb\\Rep4_stakes\"\n",
    "R5_9stakes = r\"C:\\Users\\abe_lizbethp\\Box\\2022_Digital_Acre\\Tags\\Rep_5_9_stakes\\Rep_5_9_stakes.gdb\\rep_5__stakes\"\n",
    "\n",
    "#Local Variables\n",
    "in_data = [R1_stakes,R2_stakes,R3_stakes,R4_stakes,R5_9stakes]\n",
    "out_data = \"Merge_Stakes\"\n",
    "#Merge all stakes feature class into a single feature class \n",
    "arcpy.Merge_management(in_data, out_data)"
   ]
  },
  {
   "cell_type": "markdown",
   "metadata": {
    "heading_collapsed": true
   },
   "source": [
    "### Convert Stakes points into Rep polygons"
   ]
  },
  {
   "cell_type": "code",
   "execution_count": 5,
   "metadata": {
    "hidden": true
   },
   "outputs": [
    {
     "data": {
      "text/html": [
       "<div class='gpresult'><h2>Messages</h2><div id='messages' data-messages='[\"Start Time: Thursday, February 16, 2023 8:26:37 AM\",\"Finding point clusters...\",\"Constructing polygons...\",\"Succeeded at Thursday, February 16, 2023 8:26:37 AM (Elapsed Time: 0.59 seconds)\"]' data-show='true'><div id = 'default' /></div></div>"
      ],
      "text/plain": [
       "<Result 'C:\\\\Users\\\\abe_lizbethp\\\\OneDrive - Iowa State University\\\\Documents\\\\ArcGIS\\\\Projects\\\\Digital_Acre_SOPs\\\\Digital_Acre_SOPs.gdb\\\\R1_R9_Polygons'>"
      ]
     },
     "execution_count": 5,
     "metadata": {},
     "output_type": "execute_result"
    }
   ],
   "source": [
    "# Set local variables\n",
    "in_point_features = out_data     #Merged Stakes/ output from last geoprocess\n",
    "out_feature_class = \"R1_R9_Polygons\"\n",
    "aggregation_distance = \"15 meters\"\n",
    "\n",
    "# Execute Aggregate Points\n",
    "arcpy.AggregatePoints_cartography(in_point_features, out_feature_class, aggregation_distance)"
   ]
  },
  {
   "cell_type": "markdown",
   "metadata": {
    "heading_collapsed": true
   },
   "source": [
    "### Number Reps"
   ]
  },
  {
   "cell_type": "code",
   "execution_count": 6,
   "metadata": {
    "hidden": true
   },
   "outputs": [
    {
     "data": {
      "text/html": [
       "<div class='gpresult'><h2>Messages</h2><div id='messages' data-messages='[\"Start Time: Thursday, February 16, 2023 8:31:10 AM\",\"Succeeded at Thursday, February 16, 2023 8:31:10 AM (Elapsed Time: 0.07 seconds)\"]' data-show='true'><div id = 'default' /></div></div>"
      ],
      "text/plain": [
       "<Result 'R1_R9_w_Numb'>"
      ]
     },
     "execution_count": 6,
     "metadata": {},
     "output_type": "execute_result"
    }
   ],
   "source": [
    "#Calculate center of rep polygon longitude and use longitude to number polygons \n",
    "arcpy.env.outputCoordinateSystem = arcpy.Describe(\"R1_R9_Polygons\").spatialReference\n",
    "\n",
    "# Set local variables\n",
    "in_features = \"R1_R9_Polygons\"\n",
    "arcpy.management.CalculateGeometryAttributes(in_features, [[\"Rep_Longitude\", \"CENTROID_X\"]])\n",
    "\n",
    "#Sort polygons by longitude (ascending) and assign numbering \n",
    "#Set local variables \n",
    "in_dataset = \"R1_R9_Polygons\"\n",
    "out_dataset  = \"R1_R9_w_Numb\"\n",
    "\n",
    "#Process: Sort (Sort) (management)\n",
    "arcpy.management.Sort(in_dataset, out_dataset, sort_field=[[\"Rep_Longitude\", \"ASCENDING\"]], spatial_sort_method=\"UR\")\n",
    "\n",
    "# Set local variables\n",
    "inTable = \"R1_R9_w_Numb\"\n",
    "fieldName = \"Rep_Numb\"\n",
    "expression = \"autoIncrement()\"\n",
    "\n",
    "codeblock = \"\"\"\n",
    "rec = 0\n",
    "def autoIncrement():\n",
    "    global rec\n",
    "    pStart    = 1\n",
    "    pInterval = 1\n",
    "    if (rec == 0):\n",
    "        rec = pStart\n",
    "    else:\n",
    "        rec += pInterval\n",
    "    return rec\"\"\"\n",
    " \n",
    "# Run AddField\n",
    "arcpy.management.AddField(inTable, fieldName, \"SHORT\")\n",
    " \n",
    "# Run CalculateField \n",
    "arcpy.management.CalculateField(inTable, fieldName, expression, \"PYTHON3\", \n",
    "                                codeblock)"
   ]
  },
  {
   "cell_type": "markdown",
   "metadata": {},
   "source": [
    "# Divide Reps into Rows + Numbering"
   ]
  },
  {
   "cell_type": "markdown",
   "metadata": {
    "heading_collapsed": true
   },
   "source": [
    "### Divide Reps into Rows"
   ]
  },
  {
   "cell_type": "code",
   "execution_count": 7,
   "metadata": {
    "hidden": true
   },
   "outputs": [
    {
     "data": {
      "text/html": [
       "<div class='gpresult'><h2>Messages</h2><div id='messages' data-messages='[\"Start Time: Thursday, February 16, 2023 8:34:42 AM\",\"Succeeded at Thursday, February 16, 2023 8:34:42 AM (Elapsed Time: 0.33 seconds)\"]' data-show='true'><div id = 'default' /></div></div>"
      ],
      "text/plain": [
       "<Result 'C:\\\\Users\\\\abe_lizbethp\\\\OneDrive - Iowa State University\\\\Documents\\\\ArcGIS\\\\Projects\\\\Digital_Acre_SOPs\\\\Digital_Acre_SOPs.gdb\\\\Rows_polygon'>"
      ]
     },
     "execution_count": 7,
     "metadata": {},
     "output_type": "execute_result"
    }
   ],
   "source": [
    "#Subdivide rep in 48 equal parts\n",
    "in_polygons = \"R1_R9_w_Numb\"\n",
    "out_feature_class = \"Rows_polygon\"\n",
    "arcpy.management.SubdividePolygon(in_polygons, out_feature_class, \n",
    "                                  method=\"NUMBER_OF_EQUAL_PARTS\", num_areas=48, target_area=\"\", target_width=\"\", \n",
    "                                  split_angle=0, subdivision_type=\"STRIPS\")"
   ]
  },
  {
   "cell_type": "markdown",
   "metadata": {
    "heading_collapsed": true
   },
   "source": [
    "### Number Rows"
   ]
  },
  {
   "cell_type": "code",
   "execution_count": 8,
   "metadata": {
    "hidden": true
   },
   "outputs": [
    {
     "name": "stderr",
     "output_type": "stream",
     "text": [
      "Traceback (most recent call last):\n",
      "  File \"<expression>\", line 1, in <module>\n",
      "  File \"<string>\", line 17, in autoIncrement\n",
      "IndexError: list index out of range\n"
     ]
    },
    {
     "ename": "ExecuteError",
     "evalue": "ERROR 999999: Something unexpected caused the tool to fail. Contact Esri Technical Support (http://esriurl.com/support) to Report a Bug, and refer to the error help for potential solutions or workarounds.\nFailed to execute (CalculateField).\n",
     "output_type": "error",
     "traceback": [
      "\u001b[0;31m---------------------------------------------------------------------------\u001b[0m\n\u001b[0;31mExecuteError\u001b[0m                              Traceback (most recent call last)",
      "In  \u001b[0;34m[8]\u001b[0m:\nLine \u001b[0;34m58\u001b[0m:    arcpy.management.CalculateField(inTable, fieldName, expression, \u001b[33m\"\u001b[39;49;00m\u001b[33mPYTHON3\u001b[39;49;00m\u001b[33m\"\u001b[39;49;00m, \n",
      "File \u001b[0;34mC:\\Users\\abe_lizbethp\\AppData\\Local\\Programs\\ArcGIS\\Pro\\Resources\\ArcPy\\arcpy\\management.py\u001b[0m, in \u001b[0;32mCalculateField\u001b[0m:\nLine \u001b[0;34m5786\u001b[0m:  \u001b[34mraise\u001b[39;49;00m e\n",
      "File \u001b[0;34mC:\\Users\\abe_lizbethp\\AppData\\Local\\Programs\\ArcGIS\\Pro\\Resources\\ArcPy\\arcpy\\management.py\u001b[0m, in \u001b[0;32mCalculateField\u001b[0m:\nLine \u001b[0;34m5783\u001b[0m:  retval = convertArcObjectToPythonObject(gp.CalculateField_management(*gp_fixargs((in_table, field, expression, expression_type, code_block, field_type, enforce_domains), \u001b[34mTrue\u001b[39;49;00m)))\n",
      "File \u001b[0;34mC:\\Users\\abe_lizbethp\\AppData\\Local\\Programs\\ArcGIS\\Pro\\Resources\\ArcPy\\arcpy\\geoprocessing\\_base.py\u001b[0m, in \u001b[0;32m<lambda>\u001b[0m:\nLine \u001b[0;34m512\u001b[0m:   \u001b[34mreturn\u001b[39;49;00m \u001b[34mlambda\u001b[39;49;00m *args: val(*gp_fixargs(args, \u001b[34mTrue\u001b[39;49;00m))\n",
      "\u001b[0;31mExecuteError\u001b[0m: ERROR 999999: Something unexpected caused the tool to fail. Contact Esri Technical Support (http://esriurl.com/support) to Report a Bug, and refer to the error help for potential solutions or workarounds.\nFailed to execute (CalculateField).\n\n\u001b[0;31m---------------------------------------------------------------------------\u001b[0m"
     ]
    }
   ],
   "source": [
    "#Calculate center of row polygon and use latitude to number polygons \n",
    "arcpy.env.outputCoordinateSystem = arcpy.Describe(\"R1_R9_w_Numb\").spatialReference\n",
    "\n",
    "# Set local variables\n",
    "in_features = \"Rows_polygon\"\n",
    "arcpy.management.CalculateGeometryAttributes(in_features, [[\"Row_Latitude\", \"CENTROID_Y\"]])\n",
    "\n",
    "#Sort polygons by latitude (descending) and assign numbering \n",
    "#Set local variables \n",
    "in_dataset = \"Rows_polygon\"\n",
    "out_dataset  = \"Row_polygon_w_Numb\"\n",
    "\n",
    "#Process: Sort (Sort) (management)\n",
    "arcpy.management.Sort(in_dataset, out_dataset, sort_field=[[\"Rep_Numb\",\"ASCENDING\"],[\"Row_Latitude\", \"DESCENDING\"]], spatial_sort_method=\"UR\")\n",
    "\n",
    "fc = \"Row_polygon_w_Numb\"\n",
    "field =\"Rep_Numb\"\n",
    "cursor = arcpy.SearchCursor(fc)\n",
    "rep_list =  []\n",
    "\n",
    "# Use SearchCursor with list comprehension to return a\n",
    "# unique set of values in the specified field\n",
    "for row in cursor:\n",
    "    #print(row.getValue(field))\n",
    "    rep = row.getValue(field)\n",
    "    rep_list.append(rep)\n",
    "    \n",
    "\n",
    "# Set local variables\n",
    "inTable = \"Row_polygon_w_Numb\"\n",
    "fieldName = \"Row_Numb\"\n",
    "expression = \"autoIncrement()\"\n",
    "\n",
    "codeblock = \"\"\"\n",
    "rec = 0\n",
    "m = 0\n",
    "rep_list = [1, 1, 1, 1, 1, 1, 1, 1, 1, 1, 1, 1, 1, 1, 1, 1, 1, 1, 1, 1, 1, 1, 1, 1, 1, 1, 1, 1, 1, 1, 1, 1, 1, 1, 1, 1, 1, 1, 1, 1, 1, 1, 1, 1, 1, 1, 1, 1, 2, 2, 2, 2, 2, 2, 2, 2, 2, 2, 2, 2, 2, 2, 2, 2, 2, 2, 2, 2, 2, 2, 2, 2, 2, 2, 2, 2, 2, 2, 2, 2, 2, 2, 2, 2, 2, 2, 2, 2, 2, 2, 2, 2, 2, 2, 2, 2, 3, 3, 3, 3, 3, 3, 3, 3, 3, 3, 3, 3, 3, 3, 3, 3, 3, 3, 3, 3, 3, 3, 3, 3, 3, 3, 3, 3, 3, 3, 3, 3, 3, 3, 3, 3, 3, 3, 3, 3, 3, 3, 3, 3, 3, 3, 3, 3, 4, 4, 4, 4, 4, 4, 4, 4, 4, 4, 4, 4, 4, 4, 4, 4, 4, 4, 4, 4, 4, 4, 4, 4, 4, 4, 4, 4, 4, 4, 4, 4, 4, 4, 4, 4, 4, 4, 4, 4, 4, 4, 4, 4, 4, 4, 4, 4, 5, 5, 5, 5, 5, 5, 5, 5, 5, 5, 5, 5, 5, 5, 5, 5, 5, 5, 5, 5, 5, 5, 5, 5, 5, 5, 5, 5, 5, 5, 5, 5, 5, 5, 5, 5, 5, 5, 5, 5, 5, 5, 5, 5, 5, 5, 5, 5, 6, 6, 6, 6, 6, 6, 6, 6, 6, 6, 6, 6, 6, 6, 6, 6, 6, 6, 6, 6, 6, 6, 6, 6, 6, 6, 6, 6, 6, 6, 6, 6, 6, 6, 6, 6, 6, 6, 6, 6, 6, 6, 6, 6, 6, 6, 6, 6, 7, 7, 7, 7, 7, 7, 7, 7, 7, 7, 7, 7, 7, 7, 7, 7, 7, 7, 7, 7, 7, 7, 7, 7, 7, 7, 7, 7, 7, 7, 7, 7, 7, 7, 7, 7, 7, 7, 7, 7, 7, 7, 7, 7, 7, 7, 7, 7, 8, 8, 8, 8, 8, 8, 8, 8, 8, 8, 8, 8, 8, 8, 8, 8, 8, 8, 8, 8, 8, 8, 8, 8, 8, 8, 8, 8, 8, 8, 8, 8, 8, 8, 8, 8, 8, 8, 8, 8, 8, 8, 8, 8, 8, 8, 8, 8, 9, 9, 9, 9, 9, 9, 9, 9, 9, 9, 9, 9, 9, 9, 9, 9, 9, 9, 9, 9, 9, 9, 9, 9, 9, 9, 9, 9, 9, 9, 9, 9, 9, 9, 9, 9, 9, 9, 9, 9, 9, 9, 9, 9, 9, 9, 9, 9]\n",
    "def autoIncrement():\n",
    "    global rec\n",
    "    global m\n",
    "    m=m+1\n",
    "        \n",
    "    pStart    = 1\n",
    "    pInterval = 1\n",
    "    if (rec == 0):\n",
    "        rec = pStart\n",
    "    else:\n",
    "        rec += pInterval\n",
    "            \n",
    "    if  rep_list[m]!= rep_list[m-1]:\n",
    "        rec = 0\n",
    "    return rec\"\"\"\n",
    " \n",
    "# Run AddField\n",
    "arcpy.management.AddField(inTable, fieldName, \"SHORT\")\n",
    " \n",
    "# Run CalculateField \n",
    "arcpy.management.CalculateField(inTable, fieldName, expression, \"PYTHON3\", \n",
    "                                codeblock)\n",
    "\n",
    "#All rows 0 need to be changed to 48 \n"
   ]
  },
  {
   "cell_type": "code",
   "execution_count": 9,
   "metadata": {
    "hidden": true
   },
   "outputs": [
    {
     "data": {
      "text/html": [
       "<div class='gpresult'><h2>Messages</h2><div id='messages' data-messages='[\"Start Time: Thursday, February 16, 2023 8:38:10 AM\",\"Succeeded at Thursday, February 16, 2023 8:38:10 AM (Elapsed Time: 0.09 seconds)\"]' data-show='true'><div id = 'default' /></div></div>"
      ],
      "text/plain": [
       "<Result 'Row_polygon_w_Numb'>"
      ]
     },
     "execution_count": 9,
     "metadata": {},
     "output_type": "execute_result"
    }
   ],
   "source": [
    "# Set local variables\n",
    "inTable = \"Row_polygon_w_Numb\"\n",
    "fieldName = \"Row_Numb\"\n",
    "expression = \"row48(!Row_Numb!)\"\n",
    "\n",
    "codeblock = \"\"\"\n",
    "def row48(row):\n",
    "    if (row == 0):\n",
    "        numb = 48\n",
    "    else:\n",
    "        numb = row\n",
    "    return numb\"\"\"\n",
    "\n",
    "# Run CalculateField \n",
    "arcpy.management.CalculateField(inTable, fieldName, expression, \"PYTHON3\", \n",
    "                                codeblock)\n",
    "\n"
   ]
  },
  {
   "cell_type": "markdown",
   "metadata": {},
   "source": [
    "### Rep 9 Row 48, overwrite row number to 48 "
   ]
  },
  {
   "cell_type": "markdown",
   "metadata": {},
   "source": [
    "# Divide Rows into Zone + Numbering"
   ]
  },
  {
   "cell_type": "markdown",
   "metadata": {
    "heading_collapsed": true
   },
   "source": [
    "### Manually split rows into zones"
   ]
  },
  {
   "cell_type": "code",
   "execution_count": 5,
   "metadata": {
    "hidden": true,
    "scrolled": true
   },
   "outputs": [
    {
     "data": {
      "text/html": [
       "<div class='gpresult'><h2>Messages</h2><div id='messages' data-messages='[\"Start Time: Tuesday, February 21, 2023 6:42:33 AM\",\"Succeeded at Tuesday, February 21, 2023 6:42:35 AM (Elapsed Time: 2.10 seconds)\"]' data-show='true'><div id = 'default' /></div></div>"
      ],
      "text/plain": [
       "<Result 'Row_Zones_1_9'>"
      ]
     },
     "execution_count": 5,
     "metadata": {},
     "output_type": "execute_result"
    }
   ],
   "source": [
    "#Calculate center of zone polygon and use longitude for number zone\n",
    "# Set local variables\n",
    "env.workspace = r\"C:\\Users\\abe_lizbethp\\OneDrive - Iowa State University\\Documents\\2022_Digital_Acre\\Tags_Metadata\\Tags_Metadata.gdb\\Row_Zones_1_9\"\n",
    "in_features = \"Row_Zones_1_9\"\n",
    "arcpy.management.CalculateGeometryAttributes(in_features, [[\"Zone_Longitude\", \"CENTROID_X\"]])"
   ]
  },
  {
   "cell_type": "markdown",
   "metadata": {
    "heading_collapsed": true
   },
   "source": [
    "### Numerate Zones"
   ]
  },
  {
   "cell_type": "code",
   "execution_count": 7,
   "metadata": {
    "hidden": true
   },
   "outputs": [
    {
     "data": {
      "text/html": [
       "<div class='gpresult'><h2>Messages</h2><div id='messages' data-messages='[\"Start Time: Tuesday, February 21, 2023 6:49:55 AM\",\"Succeeded at Tuesday, February 21, 2023 6:49:55 AM (Elapsed Time: 0.15 seconds)\"]' data-show='true'><div id = 'default' /></div></div>"
      ],
      "text/plain": [
       "<Result 'Zones_w_Numb'>"
      ]
     },
     "execution_count": 7,
     "metadata": {},
     "output_type": "execute_result"
    }
   ],
   "source": [
    "#Sort polygons \n",
    "#Set local variables \n",
    "in_dataset = \"Row_Zones_1_9\"\n",
    "out_dataset  = r\"C:\\Users\\abe_lizbethp\\OneDrive - Iowa State University\\Documents\\ArcGIS\\Projects\\Digital_Acre_SOPs\\Digital_Acre_SOPs.gdb\\Zones_w_Numb\"\n",
    "\n",
    "#Process: Sort (Sort) (management)\n",
    "arcpy.management.Sort(in_dataset, out_dataset, sort_field=[[\"Rep_Numb\",\"ASCENDING\"],[\"Row_Numb\",\"ASCENDING\"],[\"Zone_Longitude\", \"ASCENDING\"]], spatial_sort_method=\"UR\")\n",
    "\n",
    "env.workspace = r'C:\\Users\\abe_lizbethp\\OneDrive - Iowa State University\\Documents\\ArcGIS\\Projects\\Digital_Acre_SOPs\\Digital_Acre_SOPs.gdb'\n",
    "fc = \"Zones_w_Numb\"\n",
    "field =\"Row_Numb\"\n",
    "cursor = arcpy.SearchCursor(fc)\n",
    "rep_list = []\n",
    "\n",
    "# Use SearchCursor with list comprehension to return a\n",
    "# unique set of values in the specified field\n",
    "for row in cursor:\n",
    "    #print(row.getValue(field))\n",
    "    rep = row.getValue(field)\n",
    "    rep_list.append(rep)\n",
    "    \n",
    "# Set local variables\n",
    "inTable = \"Zones_w_Numb\"\n",
    "fieldName = \"Zone_Numb\"\n",
    "expression = \"zone()\"\n",
    "\n",
    "codeblock = \"\"\"\n",
    "rec = 0\n",
    "m = 0\n",
    "rep_list=[1, 1, 1, 2, 2, 2, 3, 4, 4, 4, 5, 5, 5, 6, 6, 6, 7, 7, 7, 8, 8, 8, 9, 9, 10, 10, 11, 11, 12, 12, 13, 13, 13, 14, 14, 14, 15, 15, 15, 16, 16, 16, 17, 17, 18, 18, 19, 19, 20, 20, 21, 21, 21, 22, 22, 22, 23, 23, 23, 24, 24, 24, 25, 25, 25, 26, 26, 26, 27, 27, 27, 28, 28, 28, 29, 29, 29, 30, 30, 30, 31, 31, 31, 32, 32, 32, 33, 33, 33, 34, 34, 34, 35, 35, 35, 36, 36, 36, 37, 37, 37, 38, 38, 38, 39, 39, 39, 40, 40, 40, 41, 41, 41, 42, 42, 42, 43, 43, 43, 44, 44, 44, 45, 45, 45, 46, 46, 46, 47, 47, 47, 48, 48, 48, 1, 1, 1, 2, 2, 2, 3, 3, 3, 4, 4, 4, 5, 5, 5, 6, 6, 6, 7, 7, 7, 8, 8, 8, 9, 9, 9, 10, 10, 10, 11, 11, 11, 12, 12, 12, 13, 13, 13, 14, 14, 14, 15, 15, 15, 16, 16, 16, 17, 17, 18, 18, 19, 19, 20, 20, 21, 21, 21, 22, 22, 22, 23, 23, 23, 24, 24, 24, 25, 25, 25, 26, 26, 26, 27, 27, 27, 28, 28, 28, 29, 29, 29, 30, 30, 30, 31, 31, 31, 32, 32, 32, 33, 33, 33, 34, 34, 34, 35, 35, 35, 36, 36, 36, 37, 37, 37, 38, 38, 38, 39, 39, 39, 40, 40, 40, 41, 41, 41, 42, 42, 42, 43, 43, 43, 44, 44, 44, 45, 45, 45, 46, 46, 46, 47, 47, 47, 48, 48, 48, 1, 1, 1, 2, 2, 2, 3, 3, 3, 4, 4, 4, 5, 5, 5, 6, 6, 6, 7, 7, 7, 8, 8, 8, 9, 9, 9, 10, 10, 10, 11, 11, 11, 12, 12, 12, 13, 13, 13, 14, 14, 14, 15, 15, 15, 16, 16, 16, 17, 17, 17, 18, 18, 18, 19, 19, 19, 20, 20, 20, 21, 21, 21, 22, 22, 22, 23, 23, 23, 24, 24, 24, 25, 25, 25, 26, 26, 26, 27, 27, 27, 28, 28, 28, 29, 29, 29, 30, 30, 30, 31, 31, 31, 32, 32, 32, 33, 33, 33, 34, 34, 34, 35, 35, 35, 36, 36, 36, 37, 37, 37, 38, 38, 38, 39, 39, 39, 40, 40, 40, 41, 41, 41, 42, 42, 42, 43, 43, 43, 44, 44, 44, 45, 45, 45, 46, 46, 46, 47, 47, 47, 48, 48, 48, 1, 1, 1, 2, 2, 2, 3, 3, 3, 4, 4, 4, 5, 5, 6, 6, 7, 7, 8, 8, 9, 9, 9, 10, 10, 10, 11, 11, 11, 12, 12, 12, 13, 13, 14, 14, 15, 15, 16, 16, 17, 17, 17, 18, 18, 18, 19, 19, 19, 20, 20, 20, 21, 21, 22, 22, 23, 23, 24, 24, 25, 25, 26, 26, 27, 27, 28, 28, 29, 29, 30, 30, 31, 31, 32, 32, 33, 33, 34, 34, 35, 35, 36, 36, 37, 37, 38, 38, 39, 39, 40, 40, 41, 41, 42, 42, 43, 43, 44, 44, 45, 45, 46, 46, 47, 47, 48, 48, 1, 1, 1, 2, 2, 2, 3, 3, 3, 4, 4, 4, 5, 5, 5, 6, 6, 6, 7, 7, 7, 8, 8, 8, 9, 9, 9, 10, 10, 10, 11, 11, 11, 12, 12, 12, 13, 13, 13, 14, 14, 14, 15, 15, 15, 16, 16, 16, 17, 17, 17, 18, 18, 18, 19, 19, 19, 20, 20, 20, 21, 21, 21, 22, 22, 22, 23, 23, 23, 24, 24, 24, 25, 25, 25, 26, 26, 26, 27, 27, 27, 28, 28, 28, 29, 29, 29, 30, 30, 30, 31, 31, 31, 32, 32, 32, 33, 33, 33, 34, 34, 34, 35, 35, 35, 36, 36, 36, 37, 37, 37, 38, 38, 38, 39, 39, 39, 40, 40, 40, 41, 41, 41, 42, 42, 42, 43, 43, 43, 44, 44, 44, 45, 45, 45, 46, 46, 46, 47, 47, 47, 48, 48, 48, 1, 1, 2, 2, 3, 3, 4, 4, 5, 5, 5, 6, 6, 6, 7, 7, 7, 8, 8, 8, 9, 9, 9, 10, 10, 10, 11, 11, 11, 12, 12, 12, 13, 13, 14, 14, 15, 15, 16, 16, 17, 17, 17, 18, 18, 18, 19, 19, 19, 20, 20, 20, 21, 21, 21, 22, 22, 22, 23, 23, 23, 24, 24, 24, 25, 25, 25, 26, 26, 26, 27, 27, 27, 28, 28, 28, 29, 29, 29, 30, 30, 30, 31, 31, 31, 32, 32, 32, 33, 33, 33, 34, 34, 34, 35, 35, 35, 36, 36, 36, 37, 37, 37, 38, 38, 38, 39, 39, 39, 40, 40, 40, 41, 41, 41, 42, 42, 42, 43, 43, 43, 44, 44, 44, 45, 45, 45, 46, 46, 46, 47, 47, 47, 48, 48, 48, 1, 1, 1, 2, 2, 2, 3, 3, 3, 4, 4, 4, 5, 5, 6, 6, 7, 7, 8, 8, 9, 9, 9, 10, 10, 10, 11, 11, 11, 12, 12, 12, 13, 13, 13, 14, 14, 14, 15, 15, 15, 16, 16, 16, 17, 17, 17, 18, 18, 18, 19, 19, 19, 20, 20, 20, 21, 21, 21, 22, 22, 22, 23, 23, 24, 24, 25, 25, 26, 26, 27, 27, 28, 28, 29, 29, 30, 30, 31, 31, 32, 32, 33, 33, 34, 34, 35, 35, 36, 36, 37, 37, 38, 38, 39, 39, 40, 40, 41, 41, 42, 42, 43, 43, 44, 44, 45, 45, 46, 46, 47, 47, 48, 48, 1, 1, 1, 2, 2, 2, 3, 3, 3, 4, 4, 4, 5, 5, 5, 6, 6, 6, 7, 7, 7, 8, 8, 8, 9, 9, 10, 10, 11, 11, 12, 12, 13, 13, 13, 14, 14, 14, 15, 15, 15, 16, 16, 16, 17, 17, 18, 18, 19, 19, 20, 20, 21, 21, 22, 22, 23, 23, 24, 24, 25, 25, 25, 26, 26, 26, 27, 27, 27, 28, 28, 28, 29, 29, 29, 30, 30, 30, 31, 31, 31, 32, 32, 32, 33, 33, 33, 34, 34, 34, 35, 35, 35, 36, 36, 36, 37, 37, 38, 38, 38, 39, 39, 39, 40, 40, 40, 41, 41, 41, 42, 42, 42, 43, 43, 43, 44, 44, 44, 45, 45, 45, 46, 46, 46, 47, 47, 47, 48, 48, 48, 0, 0, 0, 1, 1, 1, 2, 2, 2, 3, 3, 3, 4, 4, 4, 5, 5, 5, 6, 6, 6, 7, 7, 7, 8, 8, 8, 9, 9, 9, 10, 10, 10, 11, 11, 11, 12, 12, 12, 13, 13, 13, 14, 14, 14, 15, 15, 15, 16, 16, 16, 17, 17, 17, 18, 18, 18, 19, 19, 19, 20, 20, 20, 21, 21, 21, 22, 22, 22, 23, 23, 23, 24, 24, 24, 25, 25, 25, 26, 26, 26, 27, 27, 27, 28, 28, 28, 29, 29, 29, 30, 30, 30, 31, 31, 31, 32, 32, 32, 33, 33, 33, 34, 34, 34, 35, 35, 35, 36, 36, 36, 37, 37, 37, 38, 38, 38, 39, 39, 39, 40, 40, 40, 41, 41, 41, 42, 42, 42, 43, 43, 43, 44, 44, 44, 45, 45, 45, 46, 46, 46, 47, 47, 47]\n",
    "def zone():\n",
    "    global rec\n",
    "    global m\n",
    "    \n",
    "    pInterval = 1\n",
    "    rec += pInterval\n",
    "    \n",
    "    if rep_list[m]!= rep_list[m-1]:\n",
    "        rec = 1\n",
    "    m=m+1\n",
    "    return rec\"\"\"\n",
    " \n",
    "# Run AddField\n",
    "arcpy.management.AddField(inTable, fieldName, \"SHORT\")\n",
    " \n",
    "# Run CalculateField \n",
    "arcpy.management.CalculateField(inTable, fieldName, expression, \"PYTHON3\", \n",
    "                                codeblock)"
   ]
  },
  {
   "cell_type": "markdown",
   "metadata": {},
   "source": [
    "# Join ISU Field Metadata to Sentera Plants"
   ]
  },
  {
   "cell_type": "markdown",
   "metadata": {
    "heading_collapsed": true
   },
   "source": [
    "### Merge Sentera Shapefiles \n"
   ]
  },
  {
   "cell_type": "code",
   "execution_count": 9,
   "metadata": {
    "hidden": true,
    "scrolled": true
   },
   "outputs": [
    {
     "data": {
      "text/html": [
       "<div class='gpresult'><h2>Messages</h2><div id='messages' data-messages='[\"Start Time: Tuesday, February 21, 2023 7:03:57 AM\",\"Succeeded at Tuesday, February 21, 2023 7:04:01 AM (Elapsed Time: 4.78 seconds)\"]' data-show='true'><div id = 'default' /></div></div>"
      ],
      "text/plain": [
       "<Result 'C:\\\\Users\\\\abe_lizbethp\\\\OneDrive - Iowa State University\\\\Documents\\\\ArcGIS\\\\Projects\\\\Digital_Acre_SOPs\\\\Digital_Acre_SOPs.gdb\\\\Merge_Sentera_Plants'>"
      ]
     },
     "execution_count": 9,
     "metadata": {},
     "output_type": "execute_result"
    }
   ],
   "source": [
    "R1_plants = r\"T:\\current\\Projects\\Deere\\CPSI\\2022\\Digital Acre\\Sentera Emergence and Per-Plant Measurements\\Treatment 1\\6equ325_Treatment-1\\Day18_Output.shp\"\n",
    "R2_plants = r\"T:\\current\\Projects\\Deere\\CPSI\\2022\\Digital Acre\\Sentera Emergence and Per-Plant Measurements\\Treatment 2\\9mpby8z_Treatment-2\\Day18_Output.shp\"\n",
    "R3_plants = r\"T:\\current\\Projects\\Deere\\CPSI\\2022\\Digital Acre\\Sentera Emergence and Per-Plant Measurements\\Treatment 3\\24xy3ne_Treatment-3\\Day18_Output.shp\"\n",
    "R4_plants = r\"T:\\current\\Projects\\Deere\\CPSI\\2022\\Digital Acre\\Sentera Emergence and Per-Plant Measurements\\Treatment 4\\7r5p4a2_Treatment-4\\Day18_Output.shp\"\n",
    "R5_plants = r\"T:\\current\\Projects\\Deere\\CPSI\\2022\\Digital Acre\\Sentera Emergence and Per-Plant Measurements\\Treatment 5\\xple2d8_Treatment-5\\Day18_Output.shp\"\n",
    "R6_plants = r\"T:\\current\\Projects\\Deere\\CPSI\\2022\\Digital Acre\\Sentera Emergence and Per-Plant Measurements\\Treatment 6\\3wnjrty_Treatment-6\\Day18_Output.shp\"\n",
    "R7_plants = r\"T:\\current\\Projects\\Deere\\CPSI\\2022\\Digital Acre\\Sentera Emergence and Per-Plant Measurements\\Treatment 7\\3txwg9t_Treatment-7\\Day18_Output.shp\"\n",
    "R8_plants = r\"T:\\current\\Projects\\Deere\\CPSI\\2022\\Digital Acre\\Sentera Emergence and Per-Plant Measurements\\Treatment 8\\9ju6wap_Treatment-8\\Day18_Output.shp\"\n",
    "R9_plants = r\"T:\\current\\Projects\\Deere\\CPSI\\2022\\Digital Acre\\Sentera Emergence and Per-Plant Measurements\\Treatment 9\\azuvqp0_2022-DigitalAcre-Treatment9\\2022-DigitalAcre-Treatment9\\2022-DigitalAcre-Treatment9.shp\"\n",
    "\n",
    "\n",
    "#Local Variables\n",
    "in_data = [R1_plants, R2_plants, R3_plants, R4_plants, R5_plants, R6_plants, R7_plants, R8_plants, R9_plants]\n",
    "out_data = \"Merge_Sentera_Plants\"\n",
    "#Merge all stakes feature class into a single feature class \n",
    "arcpy.Merge_management(in_data, out_data)\n"
   ]
  },
  {
   "cell_type": "markdown",
   "metadata": {
    "heading_collapsed": true
   },
   "source": [
    "### Spatial Join Sentera + ISU Field Metadata"
   ]
  },
  {
   "cell_type": "code",
   "execution_count": 11,
   "metadata": {
    "hidden": true
   },
   "outputs": [
    {
     "data": {
      "text/html": [
       "<div class='gpresult'><h2>Messages</h2><div id='messages' data-messages='[\"Start Time: Tuesday, February 21, 2023 7:08:00 AM\",\"Succeeded at Tuesday, February 21, 2023 7:08:02 AM (Elapsed Time: 2.17 seconds)\"]' data-show='true'><div id = 'default' /></div></div>"
      ],
      "text/plain": [
       "<Result 'C:\\\\Users\\\\abe_lizbethp\\\\OneDrive - Iowa State University\\\\Documents\\\\ArcGIS\\\\Projects\\\\Digital_Acre_SOPs\\\\Digital_Acre_SOPs.gdb\\\\Sentera_w_Metadata'>"
      ]
     },
     "execution_count": 11,
     "metadata": {},
     "output_type": "execute_result"
    }
   ],
   "source": [
    "target_features = \"Merge_Sentera_Plants\"\n",
    "join_features = \"Zones_w_Numb\"\n",
    "out_feature_class = \"Sentera_w_Metadata\"\n",
    "join_operation = \"JOIN_ONE_TO_ONE\"\n",
    "join_type = \"KEEP_ALL\"\n",
    "match_option = \"INTERSECT\"\n",
    "\n",
    "arcpy.analysis.SpatialJoin(target_features, join_features, out_feature_class, \n",
    "                           join_operation, join_type, \"\", match_option)"
   ]
  },
  {
   "cell_type": "markdown",
   "metadata": {},
   "source": [
    "# Numbering Plants "
   ]
  },
  {
   "cell_type": "markdown",
   "metadata": {
    "heading_collapsed": true
   },
   "source": [
    "###  Assign Lat and Lon to Sentera Points  "
   ]
  },
  {
   "cell_type": "code",
   "execution_count": 10,
   "metadata": {
    "hidden": true
   },
   "outputs": [
    {
     "data": {
      "text/html": [
       "<div class='gpresult'><h2>Messages</h2><div id='messages' data-messages='[\"Start Time: Tuesday, February 21, 2023 7:05:56 AM\",\"Succeeded at Tuesday, February 21, 2023 7:06:06 AM (Elapsed Time: 9.89 seconds)\"]' data-show='true'><div id = 'default' /></div></div>"
      ],
      "text/plain": [
       "<Result 'Merge_Sentera_Plants'>"
      ]
     },
     "execution_count": 10,
     "metadata": {},
     "output_type": "execute_result"
    }
   ],
   "source": [
    "# Set environment settings (Project GDB) \n",
    "env.outputCoordinateSystem = arcpy.Describe(\"Merge_Sentera_Plants\").spatialReference\n",
    "\n",
    "# Set local variables\n",
    "in_features = \"Merge_Sentera_Plants\"\n",
    "arcpy.management.CalculateGeometryAttributes(in_features, [[\"Latitude\", \"Point_Y\"], [\"Longitude\", \"Point_X\"]],\"\",\"\",\"\",\"DD\")"
   ]
  },
  {
   "cell_type": "markdown",
   "metadata": {
    "heading_collapsed": true
   },
   "source": [
    "### Read Plants shapefile as dataframe and number plants"
   ]
  },
  {
   "cell_type": "code",
   "execution_count": 14,
   "metadata": {
    "hidden": true
   },
   "outputs": [
    {
     "data": {
      "text/html": [
       "<div class='gpresult'><h2>Messages</h2><div id='messages' data-messages='[\"Start Time: Tuesday, February 21, 2023 7:13:26 AM\",\"Succeeded at Tuesday, February 21, 2023 7:13:53 AM (Elapsed Time: 26.84 seconds)\"]' data-show='true'><div id = 'default' /></div></div>"
      ],
      "text/plain": [
       "<Result 'C:\\\\Users\\\\abe_lizbethp\\\\OneDrive - Iowa State University\\\\Documents\\\\ArcGIS\\\\Projects\\\\Digital_Acre_SOPs\\\\Sentera_w_Metadata.xlsx'>"
      ]
     },
     "execution_count": 14,
     "metadata": {},
     "output_type": "execute_result"
    }
   ],
   "source": [
    "# Set local variables\n",
    "in_table = \"Sentera_w_Metadata\"\n",
    "out_xls = r\"C:\\Users\\abe_lizbethp\\OneDrive - Iowa State University\\Documents\\ArcGIS\\Projects\\Digital_Acre_SOPs\\Sentera_w_Metadata.xlsx\"\n",
    "\n",
    "# Run TableToExcel\n",
    "arcpy.conversion.TableToExcel(in_table, out_xls)"
   ]
  },
  {
   "cell_type": "code",
   "execution_count": 15,
   "metadata": {
    "hidden": true
   },
   "outputs": [],
   "source": [
    "df = pd.read_excel(out_xls)\n",
    "df_sort = df.sort_values(by=['Rep_Numb', 'Row_Numb','Zone_Numb', 'Longitude'])\n",
    "df_sort = df_sort.reset_index()\n",
    "zone_number = df_sort[\"Zone_Numb\"]"
   ]
  },
  {
   "cell_type": "code",
   "execution_count": 16,
   "metadata": {
    "hidden": true,
    "scrolled": true
   },
   "outputs": [
    {
     "ename": "KeyError",
     "evalue": "22339",
     "output_type": "error",
     "traceback": [
      "\u001b[0;31m---------------------------------------------------------------------------\u001b[0m\n\u001b[0;31mKeyError\u001b[0m                                  Traceback (most recent call last)",
      "In  \u001b[0;34m[16]\u001b[0m:\nLine \u001b[0;34m10\u001b[0m:    \u001b[34mif\u001b[39;49;00m zone_number[m]!=zone_number[m-\u001b[34m1\u001b[39;49;00m]:\n",
      "File \u001b[0;34mC:\\Users\\abe_lizbethp\\AppData\\Local\\Programs\\ArcGIS\\Pro\\bin\\Python\\envs\\arcgispro-py3_clone\\lib\\site-packages\\pandas\\core\\series.py\u001b[0m, in \u001b[0;32m__getitem__\u001b[0m:\nLine \u001b[0;34m942\u001b[0m:   \u001b[34mreturn\u001b[39;49;00m \u001b[36mself\u001b[39;49;00m._get_value(key)\n",
      "File \u001b[0;34mC:\\Users\\abe_lizbethp\\AppData\\Local\\Programs\\ArcGIS\\Pro\\bin\\Python\\envs\\arcgispro-py3_clone\\lib\\site-packages\\pandas\\core\\series.py\u001b[0m, in \u001b[0;32m_get_value\u001b[0m:\nLine \u001b[0;34m1051\u001b[0m:  loc = \u001b[36mself\u001b[39;49;00m.index.get_loc(label)\n",
      "File \u001b[0;34mC:\\Users\\abe_lizbethp\\AppData\\Local\\Programs\\ArcGIS\\Pro\\bin\\Python\\envs\\arcgispro-py3_clone\\lib\\site-packages\\pandas\\core\\indexes\\range.py\u001b[0m, in \u001b[0;32mget_loc\u001b[0m:\nLine \u001b[0;34m387\u001b[0m:   \u001b[34mraise\u001b[39;49;00m \u001b[36mKeyError\u001b[39;49;00m(key) \u001b[34mfrom\u001b[39;49;00m \u001b[04m\u001b[36merr\u001b[39;49;00m\n",
      "\u001b[0;31mKeyError\u001b[0m: 22339\n\u001b[0;31m---------------------------------------------------------------------------\u001b[0m"
     ]
    }
   ],
   "source": [
    "plant_number = []\n",
    "n = 0\n",
    "m = 0\n",
    "\n",
    "for i in zone_number:\n",
    "    m=m+1\n",
    "    n = n+1\n",
    "    plant_number.append(n)\n",
    "    \n",
    "    if zone_number[m]!=zone_number[m-1]:\n",
    "        #print(m)\n",
    "        n = 0"
   ]
  },
  {
   "cell_type": "code",
   "execution_count": 17,
   "metadata": {
    "hidden": true
   },
   "outputs": [],
   "source": [
    "df_sort['Plant_Number']= plant_number"
   ]
  },
  {
   "cell_type": "markdown",
   "metadata": {
    "heading_collapsed": true
   },
   "source": [
    "### Convert df to excel, excel to table, table to XY Display"
   ]
  },
  {
   "cell_type": "code",
   "execution_count": 19,
   "metadata": {
    "hidden": true
   },
   "outputs": [],
   "source": [
    "out_xls = r\"C:\\Users\\abe_lizbethp\\OneDrive - Iowa State University\\Documents\\ArcGIS\\Projects\\Digital_Acre_SOPs\\Sentera_w_Numbers.xlsx\"\n",
    "df_sort.to_excel(out_xls)"
   ]
  },
  {
   "cell_type": "code",
   "execution_count": 20,
   "metadata": {
    "hidden": true
   },
   "outputs": [
    {
     "data": {
      "text/html": [
       "<div class='gpresult'><h2>Messages</h2><div id='messages' data-messages='[\"Start Time: Tuesday, February 21, 2023 7:17:45 AM\",\"Succeeded at Tuesday, February 21, 2023 7:18:28 AM (Elapsed Time: 43.44 seconds)\"]' data-show='true'><div id = 'default' /></div></div>"
      ],
      "text/plain": [
       "<Result 'C:\\\\Users\\\\abe_lizbethp\\\\OneDrive - Iowa State University\\\\Documents\\\\ArcGIS\\\\Projects\\\\Digital_Acre_SOPs\\\\Digital_Acre_SOPs.gdb\\\\Sentera_w_Plant_Numb'>"
      ]
     },
     "execution_count": 20,
     "metadata": {},
     "output_type": "execute_result"
    }
   ],
   "source": [
    "Input_Excel_File = out_xls\n",
    "Output_Table = \"Sentera_w_Plant_Numb\"\n",
    "arcpy.conversion.ExcelToTable(Input_Excel_File, Output_Table)"
   ]
  },
  {
   "cell_type": "code",
   "execution_count": null,
   "metadata": {
    "hidden": true
   },
   "outputs": [],
   "source": [
    "arcpy.management.XYTableToPoint(\"Sentera_w_Plant_Numb\", r\"C:\\Users\\abe_lizbethp\\OneDrive - Iowa State University\\Documents\\ArcGIS\\Projects\\Digital_Acre_SOPs\\Digital_Acre_SOPs.gdb\\Sentera_w_Plant_Number_XYTabletoPoint\", \"Longitude\", \"Latitude\", None, 'GEOGCS[\"GCS_WGS_1984\",DATUM[\"D_WGS_1984\",SPHEROID[\"WGS_1984\",6378137.0,298.257223563]],PRIMEM[\"Greenwich\",0.0],UNIT[\"Degree\",0.0174532925199433]];-400 -400 1000000000;-100000 10000;-100000 10000;8.98315284119521E-09;0.001;0.001;IsHighPrecision')"
   ]
  }
 ],
 "metadata": {
  "kernelspec": {
   "display_name": "ArcGISPro",
   "language": "Python",
   "name": "python3"
  },
  "language_info": {
   "file_extension": ".py",
   "name": "python",
   "version": "3"
  }
 },
 "nbformat": 4,
 "nbformat_minor": 2
}
